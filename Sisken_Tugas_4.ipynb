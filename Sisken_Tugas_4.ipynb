{
  "nbformat": 4,
  "nbformat_minor": 0,
  "metadata": {
    "colab": {
      "provenance": [],
      "collapsed_sections": []
    },
    "kernelspec": {
      "name": "python3",
      "display_name": "Python 3"
    },
    "language_info": {
      "name": "python"
    }
  },
  "cells": [
    {
      "cell_type": "markdown",
      "source": [
        "Gabriel Possenti 19/442374/PA/19123 <br>\n",
        "https://colab.research.google.com/drive/1ADAr4AWcXbiA4BNlSrbV5FHC_dnH__nx?usp=sharing\n"
      ],
      "metadata": {
        "id": "NVGE7Ov689Yv"
      }
    },
    {
      "cell_type": "code",
      "source": [
        "!pip install slycot\n",
        "!pip install control"
      ],
      "metadata": {
        "id": "rh1dEWqiX2eC",
        "colab": {
          "base_uri": "https://localhost:8080/"
        },
        "outputId": "bf22422d-a8ce-497d-dc62-4e56c1609ae1"
      },
      "execution_count": 80,
      "outputs": [
        {
          "output_type": "stream",
          "name": "stdout",
          "text": [
            "Looking in indexes: https://pypi.org/simple, https://us-python.pkg.dev/colab-wheels/public/simple/\n",
            "Requirement already satisfied: slycot in /usr/local/lib/python3.7/dist-packages (0.5.0)\n",
            "Requirement already satisfied: numpy in /usr/local/lib/python3.7/dist-packages (from slycot) (1.21.6)\n",
            "Looking in indexes: https://pypi.org/simple, https://us-python.pkg.dev/colab-wheels/public/simple/\n",
            "Requirement already satisfied: control in /usr/local/lib/python3.7/dist-packages (0.9.2)\n",
            "Requirement already satisfied: matplotlib in /usr/local/lib/python3.7/dist-packages (from control) (3.2.2)\n",
            "Requirement already satisfied: scipy in /usr/local/lib/python3.7/dist-packages (from control) (1.7.3)\n",
            "Requirement already satisfied: numpy in /usr/local/lib/python3.7/dist-packages (from control) (1.21.6)\n",
            "Requirement already satisfied: pyparsing!=2.0.4,!=2.1.2,!=2.1.6,>=2.0.1 in /usr/local/lib/python3.7/dist-packages (from matplotlib->control) (3.0.9)\n",
            "Requirement already satisfied: kiwisolver>=1.0.1 in /usr/local/lib/python3.7/dist-packages (from matplotlib->control) (1.4.4)\n",
            "Requirement already satisfied: cycler>=0.10 in /usr/local/lib/python3.7/dist-packages (from matplotlib->control) (0.11.0)\n",
            "Requirement already satisfied: python-dateutil>=2.1 in /usr/local/lib/python3.7/dist-packages (from matplotlib->control) (2.8.2)\n",
            "Requirement already satisfied: typing-extensions in /usr/local/lib/python3.7/dist-packages (from kiwisolver>=1.0.1->matplotlib->control) (4.1.1)\n",
            "Requirement already satisfied: six>=1.5 in /usr/local/lib/python3.7/dist-packages (from python-dateutil>=2.1->matplotlib->control) (1.15.0)\n"
          ]
        }
      ]
    },
    {
      "cell_type": "code",
      "execution_count": 81,
      "metadata": {
        "colab": {
          "base_uri": "https://localhost:8080/"
        },
        "id": "tlHXy4vZR402",
        "outputId": "928eb126-231b-43ee-8330-4512cf1a0f86"
      },
      "outputs": [
        {
          "output_type": "stream",
          "name": "stdout",
          "text": [
            "\n",
            "   1\n",
            "-------\n",
            "3 s + 1\n",
            "\n"
          ]
        }
      ],
      "source": [
        "%matplotlib inline\n",
        "\n",
        "import numpy as np\n",
        "import seaborn as sns\n",
        "import matplotlib.pyplot as plt\n",
        "import control.matlab as control\n",
        "\n",
        "G = control.tf([1],[3, 1])\n",
        "print(G)\n",
        "\n",
        "def step_info(t,yout):\n",
        "    print(\"% overshoot : \",(yout.max()/yout[-1]-1)*100,'%')\n",
        "    print(\"Rise time : \",t[next(i for i in range(0,len(yout)-1) if yout[i]>yout[-1]*.90)]-t[0])\n",
        "    print(\"%Settling time : \",t[next(len(yout)-i for i in range(2,len(yout)-1) if abs(yout[-i]/yout[-1])>1.02)]-t[0])\n",
        "\n"
      ]
    },
    {
      "cell_type": "code",
      "source": [],
      "metadata": {
        "id": "T4uyzVYGrSkA"
      },
      "execution_count": 81,
      "outputs": []
    },
    {
      "cell_type": "code",
      "source": [
        "y,t = control.step(G)\n",
        "plt.plot(t,y)\n",
        "plt.xlabel('Time')\n",
        "plt.title('Step Response')"
      ],
      "metadata": {
        "colab": {
          "base_uri": "https://localhost:8080/",
          "height": 312
        },
        "id": "T7HV6SQQEuZT",
        "outputId": "4cc21671-258d-47e1-c728-d1a19cf63d2c"
      },
      "execution_count": 82,
      "outputs": [
        {
          "output_type": "execute_result",
          "data": {
            "text/plain": [
              "Text(0.5, 1.0, 'Step Response')"
            ]
          },
          "metadata": {},
          "execution_count": 82
        },
        {
          "output_type": "display_data",
          "data": {
            "text/plain": [
              "<Figure size 432x288 with 1 Axes>"
            ],
            "image/png": "[encoded data removed]"
          },
          "metadata": {
            "needs_background": "light"
          }
        }
      ]
    },
    {
      "cell_type": "code",
      "source": [
        "# impulse\n",
        "y,t = control.impulse(G)\n",
        "plt.plot(t,y)\n",
        "plt.xlabel('Time')\n",
        "plt.title('Step impulse')"
      ],
      "metadata": {
        "colab": {
          "base_uri": "https://localhost:8080/",
          "height": 312
        },
        "id": "Hr_GEBkTE1vz",
        "outputId": "f273ab4d-e703-4272-d862-73625331f279"
      },
      "execution_count": 83,
      "outputs": [
        {
          "output_type": "execute_result",
          "data": {
            "text/plain": [
              "Text(0.5, 1.0, 'Step impulse')"
            ]
          },
          "metadata": {},
          "execution_count": 83
        },
        {
          "output_type": "display_data",
          "data": {
            "text/plain": [
              "<Figure size 432x288 with 1 Axes>"
            ],
            "image/png": "[encoded data removed]"
          },
          "metadata": {
            "needs_background": "light"
          }
        }
      ]
    },
    {
      "cell_type": "code",
      "source": [
        "#  pole\n",
        "try:\n",
        "  y,t = control.pole(G)\n",
        "  plt.plot(t,y)\n",
        "  plt.xlabel('Time')\n",
        "  plt.title('Step impulse')\n",
        "except ValueError:\n",
        "  print(\"Bilangan imajiner\")\n",
        "\n"
      ],
      "metadata": {
        "colab": {
          "base_uri": "https://localhost:8080/"
        },
        "id": "iIUkJxLHjGad",
        "outputId": "f564006f-7efe-4c44-d51e-637b365c42d0"
      },
      "execution_count": 84,
      "outputs": [
        {
          "output_type": "stream",
          "name": "stdout",
          "text": [
            "Bilangan imajiner\n"
          ]
        }
      ]
    },
    {
      "cell_type": "code",
      "source": [
        "# Gain\n",
        "kp = 1\n",
        "ti = 1\n",
        "\n",
        "H = control.tf([kp],[ti, 0])\n",
        "print(H)\n",
        "\n",
        "plt.plot(t,y)\n",
        "plt.xlabel('Time')\n",
        "plt.title('Gain')"
      ],
      "metadata": {
        "colab": {
          "base_uri": "https://localhost:8080/",
          "height": 399
        },
        "id": "1az-etz2m26d",
        "outputId": "dee32fb7-e810-4630-8c76-61fa9515142c"
      },
      "execution_count": 85,
      "outputs": [
        {
          "output_type": "stream",
          "name": "stdout",
          "text": [
            "\n",
            "1\n",
            "-\n",
            "s\n",
            "\n"
          ]
        },
        {
          "output_type": "execute_result",
          "data": {
            "text/plain": [
              "Text(0.5, 1.0, 'Gain')"
            ]
          },
          "metadata": {},
          "execution_count": 85
        },
        {
          "output_type": "display_data",
          "data": {
            "text/plain": [
              "<Figure size 432x288 with 1 Axes>"
            ],
            "image/png": "[encoded data removed]"
          },
          "metadata": {
            "needs_background": "light"
          }
        }
      ]
    },
    {
      "cell_type": "code",
      "source": [
        "# Feedback\n",
        "kp = 1\n",
        "ti = 9\n",
        "\n",
        "I = control.feedback(G*H,1)\n",
        "y,t = control.step(I)\n",
        "print(I)\n",
        "step_info(t,y)\n",
        "\n",
        "plt.plot(t,y)\n",
        "plt.xlabel('Time')\n",
        "plt.title('Feedback')"
      ],
      "metadata": {
        "colab": {
          "base_uri": "https://localhost:8080/",
          "height": 451
        },
        "id": "Qt5LTT8PqCI3",
        "outputId": "cc5ebaf2-dcc2-4c13-88dc-d57bcc733919"
      },
      "execution_count": 86,
      "outputs": [
        {
          "output_type": "stream",
          "name": "stdout",
          "text": [
            "\n",
            "      1\n",
            "-------------\n",
            "3 s^2 + s + 1\n",
            "\n",
            "% overshoot :  38.46426513176184 %\n",
            "Rise time :  3.349214680718611\n",
            "%Settling time :  19.257984414132014\n"
          ]
        },
        {
          "output_type": "execute_result",
          "data": {
            "text/plain": [
              "Text(0.5, 1.0, 'Feedback')"
            ]
          },
          "metadata": {},
          "execution_count": 86
        },
        {
          "output_type": "display_data",
          "data": {
            "text/plain": [
              "<Figure size 432x288 with 1 Axes>"
            ],
            "image/png": "[encoded data removed]"
          },
          "metadata": {
            "needs_background": "light"
          }
        }
      ]
    },
    {
      "cell_type": "markdown",
      "source": [
        "<h1>Soal Tugas 4</h1>\n"
      ],
      "metadata": {
        "id": "kH9cOV1C98bP"
      }
    },
    {
      "cell_type": "code",
      "source": [
        "t = 20\n",
        "G = control.tf([1],[1*t, 0.625*t, 1])\n",
        "print(G)"
      ],
      "metadata": {
        "colab": {
          "base_uri": "https://localhost:8080/"
        },
        "id": "6xTuxuJQvWbd",
        "outputId": "e9f78ce6-5854-4666-a5f1-1ec22cd36308"
      },
      "execution_count": 87,
      "outputs": [
        {
          "output_type": "stream",
          "name": "stdout",
          "text": [
            "\n",
            "         1\n",
            "-------------------\n",
            "20 s^2 + 12.5 s + 1\n",
            "\n"
          ]
        }
      ]
    },
    {
      "cell_type": "code",
      "source": [
        "y,t = control.step(G)\n",
        "plt.plot(t,y)\n",
        "plt.xlabel('Time')\n",
        "plt.title('Step Response')"
      ],
      "metadata": {
        "colab": {
          "base_uri": "https://localhost:8080/",
          "height": 312
        },
        "id": "AJYfasVdvJ8o",
        "outputId": "b03a7339-b2f9-4f75-8794-33dba058d726"
      },
      "execution_count": 88,
      "outputs": [
        {
          "output_type": "execute_result",
          "data": {
            "text/plain": [
              "Text(0.5, 1.0, 'Step Response')"
            ]
          },
          "metadata": {},
          "execution_count": 88
        },
        {
          "output_type": "display_data",
          "data": {
            "text/plain": [
              "<Figure size 432x288 with 1 Axes>"
            ],
            "image/png": "[encoded data removed]"
          },
          "metadata": {
            "needs_background": "light"
          }
        }
      ]
    },
    {
      "cell_type": "code",
      "source": [
        "# impulse\n",
        "y,t = control.impulse(G)\n",
        "plt.plot(t,y)\n",
        "plt.xlabel('Time')\n",
        "plt.title('Step impulse')"
      ],
      "metadata": {
        "colab": {
          "base_uri": "https://localhost:8080/",
          "height": 312
        },
        "id": "fRUHqgqWvUsJ",
        "outputId": "71c2377b-4b4c-4d7a-cb00-646ed835c3d7"
      },
      "execution_count": 89,
      "outputs": [
        {
          "output_type": "execute_result",
          "data": {
            "text/plain": [
              "Text(0.5, 1.0, 'Step impulse')"
            ]
          },
          "metadata": {},
          "execution_count": 89
        },
        {
          "output_type": "display_data",
          "data": {
            "text/plain": [
              "<Figure size 432x288 with 1 Axes>"
            ],
            "image/png": "[encoded data removed]"
          },
          "metadata": {
            "needs_background": "light"
          }
        }
      ]
    },
    {
      "cell_type": "code",
      "source": [
        "#  pole\n",
        "try:\n",
        "  y,t = control.pole(G)\n",
        "  plt.plot(t,y)\n",
        "  plt.xlabel('Time')\n",
        "  plt.title('Step impulse')\n",
        "except ValueError:\n",
        "  print(\"Bilangan imajiner\")\n",
        "\n"
      ],
      "metadata": {
        "colab": {
          "base_uri": "https://localhost:8080/",
          "height": 350
        },
        "id": "AdqiUix8vbMZ",
        "outputId": "2c7342e7-81ef-422a-dc76-d2d6dee81332"
      },
      "execution_count": 90,
      "outputs": [
        {
          "output_type": "stream",
          "name": "stderr",
          "text": [
            "/usr/local/lib/python3.7/dist-packages/matplotlib/cbook/__init__.py:1317: ComplexWarning: Casting complex values to real discards the imaginary part\n",
            "  return np.asarray(x, float)\n"
          ]
        },
        {
          "output_type": "display_data",
          "data": {
            "text/plain": [
              "<Figure size 432x288 with 1 Axes>"
            ],
            "image/png": "[encoded data removed]"
          },
          "metadata": {
            "needs_background": "light"
          }
        }
      ]
    },
    {
      "cell_type": "code",
      "source": [
        "# Gain i = 1\n",
        "kp = 1\n",
        "ti = 1\n",
        "\n",
        "H = control.tf([kp],[ti, 0])\n",
        "print(H)\n",
        "\n",
        "plt.plot(t,y)\n",
        "plt.xlabel('Time')\n",
        "plt.title('Gain')\n"
      ],
      "metadata": {
        "colab": {
          "base_uri": "https://localhost:8080/",
          "height": 399
        },
        "id": "NS0_4zmIvb9k",
        "outputId": "22d6d079-afd9-4a1e-b9a9-1c8379821440"
      },
      "execution_count": 91,
      "outputs": [
        {
          "output_type": "stream",
          "name": "stdout",
          "text": [
            "\n",
            "1\n",
            "-\n",
            "s\n",
            "\n"
          ]
        },
        {
          "output_type": "execute_result",
          "data": {
            "text/plain": [
              "Text(0.5, 1.0, 'Gain')"
            ]
          },
          "metadata": {},
          "execution_count": 91
        },
        {
          "output_type": "display_data",
          "data": {
            "text/plain": [
              "<Figure size 432x288 with 1 Axes>"
            ],
            "image/png": "[encoded data removed]"
          },
          "metadata": {
            "needs_background": "light"
          }
        }
      ]
    },
    {
      "cell_type": "code",
      "source": [
        "# Feedback i = 1\n",
        "kp = 1\n",
        "ti = 1\n",
        "\n",
        "I = control.feedback(G*H,1)\n",
        "y,t = control.step(I)\n",
        "print(I)\n",
        "try:\n",
        "  step_info(t,y)\n",
        "except:\n",
        "  plt.plot(t,y)\n",
        "  plt.xlabel('Time')\n",
        "  plt.title('Feedback')"
      ],
      "metadata": {
        "colab": {
          "base_uri": "https://localhost:8080/"
        },
        "id": "VXU1gE-7vf_m",
        "outputId": "7aab66ea-a3f1-4fd9-c0b2-53b827a2e5c3"
      },
      "execution_count": 92,
      "outputs": [
        {
          "output_type": "stream",
          "name": "stdout",
          "text": [
            "\n",
            "            1\n",
            "-------------------------\n",
            "20 s^3 + 12.5 s^2 + s + 1\n",
            "\n",
            "% overshoot :  137.59141082006 %\n",
            "Rise time :  309.57085378108064\n",
            "%Settling time :  360.784323875328\n"
          ]
        }
      ]
    },
    {
      "cell_type": "code",
      "source": [
        "# Gain i = 3\n",
        "kp = 1\n",
        "ti = 3\n",
        "\n",
        "H = control.tf([kp],[ti, 0])\n",
        "print(H)\n",
        "\n",
        "plt.plot(t,y)\n",
        "plt.xlabel('Time')\n",
        "plt.title('Gain')\n"
      ],
      "metadata": {
        "colab": {
          "base_uri": "https://localhost:8080/",
          "height": 399
        },
        "id": "Nf11LdMgzzXs",
        "outputId": "d01a8d41-7339-40f5-f630-1f514ce7de7d"
      },
      "execution_count": 93,
      "outputs": [
        {
          "output_type": "stream",
          "name": "stdout",
          "text": [
            "\n",
            " 1\n",
            "---\n",
            "3 s\n",
            "\n"
          ]
        },
        {
          "output_type": "execute_result",
          "data": {
            "text/plain": [
              "Text(0.5, 1.0, 'Gain')"
            ]
          },
          "metadata": {},
          "execution_count": 93
        },
        {
          "output_type": "display_data",
          "data": {
            "text/plain": [
              "<Figure size 432x288 with 1 Axes>"
            ],
            "image/png": "[encoded data removed]"
          },
          "metadata": {
            "needs_background": "light"
          }
        }
      ]
    },
    {
      "cell_type": "code",
      "source": [
        "# Feedback i = 3\n",
        "kp = 1\n",
        "ti = 3\n",
        "\n",
        "I = control.feedback(G*H,1)\n",
        "y,t = control.step(I)\n",
        "print(I)\n",
        "try:\n",
        "  step_info(t,y)\n",
        "except:\n",
        "  plt.plot(t,y)\n",
        "  plt.xlabel('Time')\n",
        "  plt.title('Feedback')"
      ],
      "metadata": {
        "colab": {
          "base_uri": "https://localhost:8080/"
        },
        "id": "0KhPp9G5z04l",
        "outputId": "73f5ca52-63fb-4e5d-97f9-f4b71cfb01e1"
      },
      "execution_count": 94,
      "outputs": [
        {
          "output_type": "stream",
          "name": "stdout",
          "text": [
            "\n",
            "             1\n",
            "---------------------------\n",
            "60 s^3 + 37.5 s^2 + 3 s + 1\n",
            "\n",
            "% overshoot :  68.07272695860462 %\n",
            "Rise time :  11.039112575205094\n",
            "%Settling time :  210.9175126071101\n"
          ]
        }
      ]
    },
    {
      "cell_type": "code",
      "source": [
        "# Gain i = 5\n",
        "kp = 1\n",
        "ti = 5\n",
        "\n",
        "H = control.tf([kp],[ti, 0])\n",
        "print(H)\n",
        "\n",
        "plt.plot(t,y)\n",
        "plt.xlabel('Time')\n",
        "plt.title('Gain')\n"
      ],
      "metadata": {
        "colab": {
          "base_uri": "https://localhost:8080/",
          "height": 399
        },
        "id": "amqq-wJMz6Xv",
        "outputId": "3e50fab4-1281-48bc-cb85-5cee99b8853b"
      },
      "execution_count": 95,
      "outputs": [
        {
          "output_type": "stream",
          "name": "stdout",
          "text": [
            "\n",
            " 1\n",
            "---\n",
            "5 s\n",
            "\n"
          ]
        },
        {
          "output_type": "execute_result",
          "data": {
            "text/plain": [
              "Text(0.5, 1.0, 'Gain')"
            ]
          },
          "metadata": {},
          "execution_count": 95
        },
        {
          "output_type": "display_data",
          "data": {
            "text/plain": [
              "<Figure size 432x288 with 1 Axes>"
            ],
            "image/png": "[encoded data removed]"
          },
          "metadata": {
            "needs_background": "light"
          }
        }
      ]
    },
    {
      "cell_type": "code",
      "source": [
        "# Feedback i = 5\n",
        "kp = 1\n",
        "ti = 5\n",
        "\n",
        "I = control.feedback(G*H,1)\n",
        "y,t = control.step(I)\n",
        "print(I)\n",
        "try:\n",
        "  step_info(t,y)\n",
        "except:\n",
        "  plt.plot(t,y)\n",
        "  plt.xlabel('Time')\n",
        "  plt.title('Feedback')"
      ],
      "metadata": {
        "colab": {
          "base_uri": "https://localhost:8080/"
        },
        "id": "SDjASRrUz6Vd",
        "outputId": "dfb54624-bebf-4657-ea24-a47ec23424ec"
      },
      "execution_count": 96,
      "outputs": [
        {
          "output_type": "stream",
          "name": "stdout",
          "text": [
            "\n",
            "             1\n",
            "----------------------------\n",
            "100 s^3 + 62.5 s^2 + 5 s + 1\n",
            "\n",
            "% overshoot :  48.82556353164325 %\n",
            "Rise time :  14.592371270879736\n",
            "%Settling time :  130.11531049867764\n"
          ]
        }
      ]
    },
    {
      "cell_type": "code",
      "source": [
        "# Gain i = 7\n",
        "kp = 1\n",
        "ti = 7\n",
        "\n",
        "H = control.tf([kp],[ti, 0])\n",
        "print(H)\n",
        "\n",
        "plt.plot(t,y)\n",
        "plt.xlabel('Time')\n",
        "plt.title('Gain')"
      ],
      "metadata": {
        "colab": {
          "base_uri": "https://localhost:8080/",
          "height": 399
        },
        "id": "3ooFHXoEz6TL",
        "outputId": "a3318849-ee23-4789-dc5f-4c38b036033e"
      },
      "execution_count": 97,
      "outputs": [
        {
          "output_type": "stream",
          "name": "stdout",
          "text": [
            "\n",
            " 1\n",
            "---\n",
            "7 s\n",
            "\n"
          ]
        },
        {
          "output_type": "execute_result",
          "data": {
            "text/plain": [
              "Text(0.5, 1.0, 'Gain')"
            ]
          },
          "metadata": {},
          "execution_count": 97
        },
        {
          "output_type": "display_data",
          "data": {
            "text/plain": [
              "<Figure size 432x288 with 1 Axes>"
            ],
            "image/png": "[encoded data removed]"
          },
          "metadata": {
            "needs_background": "light"
          }
        }
      ]
    },
    {
      "cell_type": "code",
      "source": [
        "# Feedback i = 7\n",
        "kp = 1\n",
        "ti = 7\n",
        "\n",
        "I = control.feedback(G*H,1)\n",
        "y,t = control.step(I)\n",
        "print(I)\n",
        "try:\n",
        "  step_info(t,y)\n",
        "except:\n",
        "  plt.plot(t,y)\n",
        "  plt.xlabel('Time')\n",
        "  plt.title('Feedback')"
      ],
      "metadata": {
        "colab": {
          "base_uri": "https://localhost:8080/"
        },
        "id": "iJngUgssz6RB",
        "outputId": "2c4a0c10-433c-4b9e-c634-f78fae8d84b4"
      },
      "execution_count": 98,
      "outputs": [
        {
          "output_type": "stream",
          "name": "stdout",
          "text": [
            "\n",
            "             1\n",
            "----------------------------\n",
            "140 s^3 + 87.5 s^2 + 7 s + 1\n",
            "\n",
            "% overshoot :  36.99988814155124 %\n",
            "Rise time :  17.813188257806992\n",
            "%Settling time :  100.69399473510342\n"
          ]
        }
      ]
    },
    {
      "cell_type": "code",
      "source": [
        "# Gain i = 9\n",
        "kp = 1\n",
        "ti = 9\n",
        "\n",
        "H = control.tf([kp],[ti, 0])\n",
        "print(H)\n",
        "\n",
        "plt.plot(t,y)\n",
        "plt.xlabel('Time')\n",
        "plt.title('Gain')"
      ],
      "metadata": {
        "colab": {
          "base_uri": "https://localhost:8080/",
          "height": 399
        },
        "id": "vzkmaB9hz6Oj",
        "outputId": "5680ff87-28a7-4fd9-e416-a9203d1f86f8"
      },
      "execution_count": 99,
      "outputs": [
        {
          "output_type": "stream",
          "name": "stdout",
          "text": [
            "\n",
            " 1\n",
            "---\n",
            "9 s\n",
            "\n"
          ]
        },
        {
          "output_type": "execute_result",
          "data": {
            "text/plain": [
              "Text(0.5, 1.0, 'Gain')"
            ]
          },
          "metadata": {},
          "execution_count": 99
        },
        {
          "output_type": "display_data",
          "data": {
            "text/plain": [
              "<Figure size 432x288 with 1 Axes>"
            ],
            "image/png": "[encoded data removed]"
          },
          "metadata": {
            "needs_background": "light"
          }
        }
      ]
    },
    {
      "cell_type": "code",
      "source": [
        "# Feedback i = 9\n",
        "kp = 1\n",
        "ti = 9\n",
        "\n",
        "I = control.feedback(G*H,1)\n",
        "y,t = control.step(I)\n",
        "print(I)\n",
        "try:\n",
        "  step_info(t,y)\n",
        "except:\n",
        "  plt.plot(t,y)\n",
        "  plt.xlabel('Time')\n",
        "  plt.title('Feedback')"
      ],
      "metadata": {
        "colab": {
          "base_uri": "https://localhost:8080/"
        },
        "id": "9w0-lC_Dz6Kp",
        "outputId": "e4be70f1-89b0-442b-d295-c5750f8452a3"
      },
      "execution_count": 100,
      "outputs": [
        {
          "output_type": "stream",
          "name": "stdout",
          "text": [
            "\n",
            "              1\n",
            "-----------------------------\n",
            "180 s^3 + 112.5 s^2 + 9 s + 1\n",
            "\n",
            "% overshoot :  29.185486328853095 %\n",
            "Rise time :  20.73902760231698\n",
            "%Settling time :  109.94183307252376\n"
          ]
        }
      ]
    },
    {
      "cell_type": "code",
      "source": [],
      "metadata": {
        "id": "PfbMG5shz6DI"
      },
      "execution_count": 100,
      "outputs": []
    },
    {
      "cell_type": "code",
      "source": [],
      "metadata": {
        "id": "xY1bhLrhz5tu"
      },
      "execution_count": 100,
      "outputs": []
    }
  ]
}