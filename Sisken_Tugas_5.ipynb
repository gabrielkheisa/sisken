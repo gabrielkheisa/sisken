{
  "nbformat": 4,
  "nbformat_minor": 0,
  "metadata": {
    "colab": {
      "provenance": [],
      "collapsed_sections": []
    },
    "kernelspec": {
      "name": "python3",
      "display_name": "Python 3"
    },
    "language_info": {
      "name": "python"
    }
  },
  "cells": [
    {
      "cell_type": "markdown",
      "source": [
        "Gabriel Possenti 19/442374/PA/19123 <br>\n",
        "https://colab.research.google.com/drive/1z_SzBktRodbM73HfhmX6TAxleI_Wfm1e?usp=sharing\n",
        "https://github.com/gabrielkheisa/sisken/blob/main/Sisken_Tugas_5.ipynb\n",
        "\n"
      ],
      "metadata": {
        "id": "NVGE7Ov689Yv"
      }
    },
    {
      "cell_type": "code",
      "source": [
        "!pip install slycot\n",
        "!pip install control"
      ],
      "metadata": {
        "id": "rh1dEWqiX2eC",
        "colab": {
          "base_uri": "https://localhost:8080/"
        },
        "outputId": "c499cf92-4a23-4b4e-c081-572dbf0ad5e8"
      },
      "execution_count": 82,
      "outputs": [
        {
          "output_type": "stream",
          "name": "stdout",
          "text": [
            "Looking in indexes: https://pypi.org/simple, https://us-python.pkg.dev/colab-wheels/public/simple/\n",
            "Requirement already satisfied: slycot in /usr/local/lib/python3.7/dist-packages (0.5.0)\n",
            "Requirement already satisfied: numpy in /usr/local/lib/python3.7/dist-packages (from slycot) (1.21.6)\n",
            "Looking in indexes: https://pypi.org/simple, https://us-python.pkg.dev/colab-wheels/public/simple/\n",
            "Requirement already satisfied: control in /usr/local/lib/python3.7/dist-packages (0.9.2)\n",
            "Requirement already satisfied: numpy in /usr/local/lib/python3.7/dist-packages (from control) (1.21.6)\n",
            "Requirement already satisfied: matplotlib in /usr/local/lib/python3.7/dist-packages (from control) (3.2.2)\n",
            "Requirement already satisfied: scipy in /usr/local/lib/python3.7/dist-packages (from control) (1.7.3)\n",
            "Requirement already satisfied: cycler>=0.10 in /usr/local/lib/python3.7/dist-packages (from matplotlib->control) (0.11.0)\n",
            "Requirement already satisfied: kiwisolver>=1.0.1 in /usr/local/lib/python3.7/dist-packages (from matplotlib->control) (1.4.4)\n",
            "Requirement already satisfied: pyparsing!=2.0.4,!=2.1.2,!=2.1.6,>=2.0.1 in /usr/local/lib/python3.7/dist-packages (from matplotlib->control) (3.0.9)\n",
            "Requirement already satisfied: python-dateutil>=2.1 in /usr/local/lib/python3.7/dist-packages (from matplotlib->control) (2.8.2)\n",
            "Requirement already satisfied: typing-extensions in /usr/local/lib/python3.7/dist-packages (from kiwisolver>=1.0.1->matplotlib->control) (4.1.1)\n",
            "Requirement already satisfied: six>=1.5 in /usr/local/lib/python3.7/dist-packages (from python-dateutil>=2.1->matplotlib->control) (1.15.0)\n"
          ]
        }
      ]
    },
    {
      "cell_type": "code",
      "execution_count": 83,
      "metadata": {
        "colab": {
          "base_uri": "https://localhost:8080/"
        },
        "id": "tlHXy4vZR402",
        "outputId": "964f32d2-4eb0-43b7-bc3b-a620f5d7fbc8"
      },
      "outputs": [
        {
          "output_type": "stream",
          "name": "stdout",
          "text": [
            "\n",
            "           0.01\n",
            "---------------------------\n",
            "0.005 s^2 + 0.06 s + 0.0001\n",
            "\n"
          ]
        }
      ],
      "source": [
        "%matplotlib inline\n",
        "\n",
        "import numpy as np\n",
        "import seaborn as sns\n",
        "import matplotlib.pyplot as plt\n",
        "import control.matlab as control\n",
        "\n",
        "# Variabel motor DC\n",
        "J = 0.01\n",
        "b = 0.1\n",
        "K = 0.01\n",
        "R = 1\n",
        "L = 0.5\n",
        "\n",
        "Kd = [1,3,5,7,9] # Ganti Kd\n",
        "Kp = 1\n",
        "\n",
        "t = 5\n",
        "motor = control.tf([K],[J*L, (J*R+b*L), K*K])\n",
        "print(motor)\n",
        "\n",
        "C1 = control.tf([Kd[0], Kp, 0],[0, 1, 0])\n",
        "C3 = control.tf([Kd[1], Kp, 0],[0, 1, 0])\n",
        "C5 = control.tf([Kd[2], Kp, 0],[0, 1, 0])\n",
        "C7 = control.tf([Kd[3], Kp, 0],[0, 1, 0])\n",
        "C9 = control.tf([Kd[4], Kp, 0],[0, 1, 0])\n",
        "\n",
        "complete1 = control.feedback(motor*C1, 1)\n",
        "complete3 = control.feedback(motor*C3, 1)\n",
        "complete5 = control.feedback(motor*C5, 1)\n",
        "complete7 = control.feedback(motor*C7, 1)\n",
        "complete9 = control.feedback(motor*C9, 1)\n",
        "\n",
        "# Fungsi step info\n",
        "def step_info(t,yout):\n",
        "    try:\n",
        "      print(\"% overshoot : \",(yout.max()/yout[-1]-1)*100,'%')\n",
        "    except:\n",
        "      print(\"% overshoot : -%\")\n",
        "    try:\n",
        "      print(\"Rise time : \",t[next(i for i in range(0,len(yout)-1) if yout[i]>yout[-1]*.90)]-t[0])\n",
        "    except:\n",
        "      print(\"Rise time : -\")\n",
        "    try:\n",
        "      print(\"%Settling time : \",t[next(len(yout)-i for i in range(2,len(yout)-1) if abs(yout[-i]/yout[-1])>1.02)]-t[0])\n",
        "    except:\n",
        "      print(\"%Settling time : -%\")\n"
      ]
    },
    {
      "cell_type": "markdown",
      "source": [
        "<h1>Kd = 1</h1>\n"
      ],
      "metadata": {
        "id": "2wR--WfYeBh0"
      }
    },
    {
      "cell_type": "code",
      "source": [
        "# Step\n",
        "y,t = control.step(complete1)\n",
        "plt.plot(t,y)\n",
        "plt.xlabel('Time')\n",
        "plt.title('Step Response')\n",
        "\n",
        "step_info(t,y)"
      ],
      "metadata": {
        "id": "T7HV6SQQEuZT",
        "colab": {
          "base_uri": "https://localhost:8080/",
          "height": 347
        },
        "outputId": "983490e1-1bb9-46c1-fef4-405c170d88c0"
      },
      "execution_count": 84,
      "outputs": [
        {
          "output_type": "stream",
          "name": "stdout",
          "text": [
            "% overshoot :  0.0 %\n",
            "Rise time :  13.636363636363637\n",
            "%Settling time : -%\n"
          ]
        },
        {
          "output_type": "display_data",
          "data": {
            "text/plain": [
              "<Figure size 432x288 with 1 Axes>"
            ],
            "image/png": "[encoded data removed]"
          },
          "metadata": {
            "needs_background": "light"
          }
        }
      ]
    },
    {
      "cell_type": "code",
      "source": [
        "# impulse\n",
        "y,t = control.impulse(complete1)\n",
        "plt.plot(t,y)\n",
        "plt.xlabel('Time')\n",
        "plt.title('Step impulse')"
      ],
      "metadata": {
        "id": "Hr_GEBkTE1vz",
        "colab": {
          "base_uri": "https://localhost:8080/",
          "height": 312
        },
        "outputId": "83e731b7-8089-4c37-851c-3c117264f751"
      },
      "execution_count": 85,
      "outputs": [
        {
          "output_type": "execute_result",
          "data": {
            "text/plain": [
              "Text(0.5, 1.0, 'Step impulse')"
            ]
          },
          "metadata": {},
          "execution_count": 85
        },
        {
          "output_type": "display_data",
          "data": {
            "text/plain": [
              "<Figure size 432x288 with 1 Axes>"
            ],
            "image/png": "[encoded data removed]"
          },
          "metadata": {
            "needs_background": "light"
          }
        }
      ]
    },
    {
      "cell_type": "code",
      "source": [
        "#  pole\n",
        "try:\n",
        "  y,t = control.pole(complete1)\n",
        "  plt.plot(t,y)\n",
        "  plt.xlabel('Time')\n",
        "  plt.title('Step impulse')\n",
        "except ValueError:\n",
        "  print(\"Bilangan imajiner\")\n",
        "\n"
      ],
      "metadata": {
        "id": "iIUkJxLHjGad",
        "colab": {
          "base_uri": "https://localhost:8080/"
        },
        "outputId": "83f9c80a-b7f5-4546-9227-5f401d2d711f"
      },
      "execution_count": 86,
      "outputs": [
        {
          "output_type": "stream",
          "name": "stdout",
          "text": [
            "Bilangan imajiner\n"
          ]
        }
      ]
    },
    {
      "cell_type": "code",
      "source": [
        "# Gain\n",
        "kp = 1\n",
        "ti = 1\n",
        "\n",
        "H = control.tf(complete1)\n",
        "print(H)\n",
        "\n",
        "plt.plot(t,y)\n",
        "plt.xlabel('Time')\n",
        "plt.title('Gain')"
      ],
      "metadata": {
        "id": "1az-etz2m26d",
        "colab": {
          "base_uri": "https://localhost:8080/",
          "height": 399
        },
        "outputId": "97eece4e-4f30-4c0a-b699-33968749ed29"
      },
      "execution_count": 87,
      "outputs": [
        {
          "output_type": "stream",
          "name": "stdout",
          "text": [
            "\n",
            "       0.01 s^2 + 0.01 s\n",
            "-------------------------------\n",
            "0.005 s^3 + 0.07 s^2 + 0.0101 s\n",
            "\n"
          ]
        },
        {
          "output_type": "execute_result",
          "data": {
            "text/plain": [
              "Text(0.5, 1.0, 'Gain')"
            ]
          },
          "metadata": {},
          "execution_count": 87
        },
        {
          "output_type": "display_data",
          "data": {
            "text/plain": [
              "<Figure size 432x288 with 1 Axes>"
            ],
            "image/png": "[encoded data removed]"
          },
          "metadata": {
            "needs_background": "light"
          }
        }
      ]
    },
    {
      "cell_type": "code",
      "source": [],
      "metadata": {
        "id": "PfbMG5shz6DI"
      },
      "execution_count": 87,
      "outputs": []
    },
    {
      "cell_type": "markdown",
      "source": [
        "<h1>Kd = 3</h1>\n"
      ],
      "metadata": {
        "id": "mjiGRnXDeL1F"
      }
    },
    {
      "cell_type": "code",
      "source": [
        "# Step\n",
        "y,t = control.step(complete3)\n",
        "plt.plot(t,y)\n",
        "plt.xlabel('Time')\n",
        "plt.title('Step Response')\n",
        "\n",
        "step_info(t,y)"
      ],
      "metadata": {
        "colab": {
          "base_uri": "https://localhost:8080/",
          "height": 347
        },
        "outputId": "51f67ce9-2b85-4381-a524-efa40fcfff2f",
        "id": "pl9FBKOAeYkP"
      },
      "execution_count": 88,
      "outputs": [
        {
          "output_type": "stream",
          "name": "stdout",
          "text": [
            "% overshoot :  0.0 %\n",
            "Rise time :  14.141414141414142\n",
            "%Settling time : -%\n"
          ]
        },
        {
          "output_type": "display_data",
          "data": {
            "text/plain": [
              "<Figure size 432x288 with 1 Axes>"
            ],
            "image/png": "[encoded data removed]"
          },
          "metadata": {
            "needs_background": "light"
          }
        }
      ]
    },
    {
      "cell_type": "code",
      "source": [
        "# impulse\n",
        "y,t = control.impulse(complete3)\n",
        "plt.plot(t,y)\n",
        "plt.xlabel('Time')\n",
        "plt.title('Step impulse')"
      ],
      "metadata": {
        "colab": {
          "base_uri": "https://localhost:8080/",
          "height": 312
        },
        "outputId": "5a0cae5a-6fad-40e3-898f-2e780ce66b81",
        "id": "C_9hNExXeYkQ"
      },
      "execution_count": 89,
      "outputs": [
        {
          "output_type": "execute_result",
          "data": {
            "text/plain": [
              "Text(0.5, 1.0, 'Step impulse')"
            ]
          },
          "metadata": {},
          "execution_count": 89
        },
        {
          "output_type": "display_data",
          "data": {
            "text/plain": [
              "<Figure size 432x288 with 1 Axes>"
            ],
            "image/png": "[encoded data removed]"
          },
          "metadata": {
            "needs_background": "light"
          }
        }
      ]
    },
    {
      "cell_type": "code",
      "source": [
        "#  pole\n",
        "try:\n",
        "  y,t = control.pole(complete3)\n",
        "  plt.plot(t,y)\n",
        "  plt.xlabel('Time')\n",
        "  plt.title('Step impulse')\n",
        "except ValueError:\n",
        "  print(\"Bilangan imajiner\")\n",
        "\n"
      ],
      "metadata": {
        "colab": {
          "base_uri": "https://localhost:8080/"
        },
        "outputId": "fbd45ca9-e922-4323-9635-ae9e628571de",
        "id": "my7_sV-AeYkR"
      },
      "execution_count": 90,
      "outputs": [
        {
          "output_type": "stream",
          "name": "stdout",
          "text": [
            "Bilangan imajiner\n"
          ]
        }
      ]
    },
    {
      "cell_type": "code",
      "source": [
        "# Gain\n",
        "kp = 1\n",
        "ti = 1\n",
        "\n",
        "H = control.tf(complete3)\n",
        "print(H)\n",
        "\n",
        "plt.plot(t,y)\n",
        "plt.xlabel('Time')\n",
        "plt.title('Gain')"
      ],
      "metadata": {
        "colab": {
          "base_uri": "https://localhost:8080/",
          "height": 399
        },
        "outputId": "6275d51e-e832-40c8-b932-d69db034cccf",
        "id": "b4lsaD0LeYkR"
      },
      "execution_count": 91,
      "outputs": [
        {
          "output_type": "stream",
          "name": "stdout",
          "text": [
            "\n",
            "       0.03 s^2 + 0.01 s\n",
            "-------------------------------\n",
            "0.005 s^3 + 0.09 s^2 + 0.0101 s\n",
            "\n"
          ]
        },
        {
          "output_type": "execute_result",
          "data": {
            "text/plain": [
              "Text(0.5, 1.0, 'Gain')"
            ]
          },
          "metadata": {},
          "execution_count": 91
        },
        {
          "output_type": "display_data",
          "data": {
            "text/plain": [
              "<Figure size 432x288 with 1 Axes>"
            ],
            "image/png": "[encoded data removed]"
          },
          "metadata": {
            "needs_background": "light"
          }
        }
      ]
    },
    {
      "cell_type": "markdown",
      "source": [
        "<h1>Kd = 5</h1>\n"
      ],
      "metadata": {
        "id": "hlylVz6HeMCx"
      }
    },
    {
      "cell_type": "code",
      "source": [
        "# Step\n",
        "y,t = control.step(complete5)\n",
        "plt.plot(t,y)\n",
        "plt.xlabel('Time')\n",
        "plt.title('Step Response')\n",
        "\n",
        "step_info(t,y)"
      ],
      "metadata": {
        "colab": {
          "base_uri": "https://localhost:8080/",
          "height": 347
        },
        "outputId": "e37a0c41-d09c-4b71-9d49-7c51aa9796f7",
        "id": "6lGuTou9ebyy"
      },
      "execution_count": 92,
      "outputs": [
        {
          "output_type": "stream",
          "name": "stdout",
          "text": [
            "% overshoot :  0.0 %\n",
            "Rise time :  14.141414141414142\n",
            "%Settling time : -%\n"
          ]
        },
        {
          "output_type": "display_data",
          "data": {
            "text/plain": [
              "<Figure size 432x288 with 1 Axes>"
            ],
            "image/png": "[encoded data removed]"
          },
          "metadata": {
            "needs_background": "light"
          }
        }
      ]
    },
    {
      "cell_type": "code",
      "source": [
        "# impulse\n",
        "y,t = control.impulse(complete5)\n",
        "plt.plot(t,y)\n",
        "plt.xlabel('Time')\n",
        "plt.title('Step impulse')"
      ],
      "metadata": {
        "colab": {
          "base_uri": "https://localhost:8080/",
          "height": 312
        },
        "outputId": "7bcf7413-ed8e-4475-8ce8-75495a11670e",
        "id": "qfZR-IEwebyz"
      },
      "execution_count": 93,
      "outputs": [
        {
          "output_type": "execute_result",
          "data": {
            "text/plain": [
              "Text(0.5, 1.0, 'Step impulse')"
            ]
          },
          "metadata": {},
          "execution_count": 93
        },
        {
          "output_type": "display_data",
          "data": {
            "text/plain": [
              "<Figure size 432x288 with 1 Axes>"
            ],
            "image/png": "[encoded data removed]"
          },
          "metadata": {
            "needs_background": "light"
          }
        }
      ]
    },
    {
      "cell_type": "code",
      "source": [
        "#  pole\n",
        "try:\n",
        "  y,t = control.pole(complete5)\n",
        "  plt.plot(t,y)\n",
        "  plt.xlabel('Time')\n",
        "  plt.title('Step impulse')\n",
        "except ValueError:\n",
        "  print(\"Bilangan imajiner\")\n",
        "\n"
      ],
      "metadata": {
        "colab": {
          "base_uri": "https://localhost:8080/"
        },
        "outputId": "2ec0f90e-3152-41c7-86ea-0e2068dba2e8",
        "id": "CgmfnNyOebyz"
      },
      "execution_count": 94,
      "outputs": [
        {
          "output_type": "stream",
          "name": "stdout",
          "text": [
            "Bilangan imajiner\n"
          ]
        }
      ]
    },
    {
      "cell_type": "code",
      "source": [
        "# Gain\n",
        "kp = 1\n",
        "ti = 1\n",
        "\n",
        "H = control.tf(complete5)\n",
        "print(H)\n",
        "\n",
        "plt.plot(t,y)\n",
        "plt.xlabel('Time')\n",
        "plt.title('Gain')"
      ],
      "metadata": {
        "colab": {
          "base_uri": "https://localhost:8080/",
          "height": 399
        },
        "outputId": "7cf73248-da51-467d-fdbb-90f739158dcd",
        "id": "D7dD01C6ebyz"
      },
      "execution_count": 95,
      "outputs": [
        {
          "output_type": "stream",
          "name": "stdout",
          "text": [
            "\n",
            "       0.05 s^2 + 0.01 s\n",
            "-------------------------------\n",
            "0.005 s^3 + 0.11 s^2 + 0.0101 s\n",
            "\n"
          ]
        },
        {
          "output_type": "execute_result",
          "data": {
            "text/plain": [
              "Text(0.5, 1.0, 'Gain')"
            ]
          },
          "metadata": {},
          "execution_count": 95
        },
        {
          "output_type": "display_data",
          "data": {
            "text/plain": [
              "<Figure size 432x288 with 1 Axes>"
            ],
            "image/png": "[encoded data removed]"
          },
          "metadata": {
            "needs_background": "light"
          }
        }
      ]
    },
    {
      "cell_type": "markdown",
      "source": [
        "<h1>Kd = 7</h1>\n"
      ],
      "metadata": {
        "id": "lkn-iIIjeMLA"
      }
    },
    {
      "cell_type": "code",
      "source": [
        "# Step\n",
        "y,t = control.step(complete7)\n",
        "plt.plot(t,y)\n",
        "plt.xlabel('Time')\n",
        "plt.title('Step Response')\n",
        "\n",
        "step_info(t,y)"
      ],
      "metadata": {
        "colab": {
          "base_uri": "https://localhost:8080/",
          "height": 347
        },
        "outputId": "0a6a9d82-366f-4d9d-d14e-5c4caaeeec68",
        "id": "CUeC_jXnefLC"
      },
      "execution_count": 96,
      "outputs": [
        {
          "output_type": "stream",
          "name": "stdout",
          "text": [
            "% overshoot :  0.0 %\n",
            "Rise time :  13.636363636363637\n",
            "%Settling time : -%\n"
          ]
        },
        {
          "output_type": "display_data",
          "data": {
            "text/plain": [
              "<Figure size 432x288 with 1 Axes>"
            ],
            "image/png": "[encoded data removed]"
          },
          "metadata": {
            "needs_background": "light"
          }
        }
      ]
    },
    {
      "cell_type": "code",
      "source": [
        "# impulse\n",
        "y,t = control.impulse(complete7)\n",
        "plt.plot(t,y)\n",
        "plt.xlabel('Time')\n",
        "plt.title('Step impulse')"
      ],
      "metadata": {
        "colab": {
          "base_uri": "https://localhost:8080/",
          "height": 312
        },
        "outputId": "531283c6-299f-4ad1-a402-8dedbdb28255",
        "id": "ABsTLYdkefLD"
      },
      "execution_count": 97,
      "outputs": [
        {
          "output_type": "execute_result",
          "data": {
            "text/plain": [
              "Text(0.5, 1.0, 'Step impulse')"
            ]
          },
          "metadata": {},
          "execution_count": 97
        },
        {
          "output_type": "display_data",
          "data": {
            "text/plain": [
              "<Figure size 432x288 with 1 Axes>"
            ],
            "image/png": "[encoded data removed]"
          },
          "metadata": {
            "needs_background": "light"
          }
        }
      ]
    },
    {
      "cell_type": "code",
      "source": [
        "#  pole\n",
        "try:\n",
        "  y,t = control.pole(complete7)\n",
        "  plt.plot(t,y)\n",
        "  plt.xlabel('Time')\n",
        "  plt.title('Step impulse')\n",
        "except ValueError:\n",
        "  print(\"Bilangan imajiner\")\n",
        "\n"
      ],
      "metadata": {
        "colab": {
          "base_uri": "https://localhost:8080/"
        },
        "outputId": "a366fc3b-662e-4156-aff8-b2f487770379",
        "id": "iraTlIE9efLD"
      },
      "execution_count": 98,
      "outputs": [
        {
          "output_type": "stream",
          "name": "stdout",
          "text": [
            "Bilangan imajiner\n"
          ]
        }
      ]
    },
    {
      "cell_type": "code",
      "source": [
        "# Gain\n",
        "kp = 1\n",
        "ti = 1\n",
        "\n",
        "H = control.tf(complete7)\n",
        "print(H)\n",
        "\n",
        "plt.plot(t,y)\n",
        "plt.xlabel('Time')\n",
        "plt.title('Gain')"
      ],
      "metadata": {
        "colab": {
          "base_uri": "https://localhost:8080/",
          "height": 399
        },
        "outputId": "5f8b458c-9f87-4e82-b648-478ddd866f8d",
        "id": "aH9iPBboefLE"
      },
      "execution_count": 99,
      "outputs": [
        {
          "output_type": "stream",
          "name": "stdout",
          "text": [
            "\n",
            "       0.07 s^2 + 0.01 s\n",
            "-------------------------------\n",
            "0.005 s^3 + 0.13 s^2 + 0.0101 s\n",
            "\n"
          ]
        },
        {
          "output_type": "execute_result",
          "data": {
            "text/plain": [
              "Text(0.5, 1.0, 'Gain')"
            ]
          },
          "metadata": {},
          "execution_count": 99
        },
        {
          "output_type": "display_data",
          "data": {
            "text/plain": [
              "<Figure size 432x288 with 1 Axes>"
            ],
            "image/png": "[encoded data removed]"
          },
          "metadata": {
            "needs_background": "light"
          }
        }
      ]
    },
    {
      "cell_type": "markdown",
      "source": [
        "<h1>Kd = 9</h1>\n"
      ],
      "metadata": {
        "id": "KnHNTkUgeMSg"
      }
    },
    {
      "cell_type": "code",
      "source": [
        "# Step\n",
        "y,t = control.step(complete9)\n",
        "plt.plot(t,y)\n",
        "plt.xlabel('Time')\n",
        "plt.title('Step Response')\n",
        "\n",
        "step_info(t,y)"
      ],
      "metadata": {
        "colab": {
          "base_uri": "https://localhost:8080/",
          "height": 347
        },
        "outputId": "9cc1ba46-696e-4568-a95d-1357000b4d82",
        "id": "UwSuZZBcehr8"
      },
      "execution_count": 100,
      "outputs": [
        {
          "output_type": "stream",
          "name": "stdout",
          "text": [
            "% overshoot :  0.0 %\n",
            "Rise time :  12.878787878787879\n",
            "%Settling time : -%\n"
          ]
        },
        {
          "output_type": "display_data",
          "data": {
            "text/plain": [
              "<Figure size 432x288 with 1 Axes>"
            ],
            "image/png": "[encoded data removed]"
          },
          "metadata": {
            "needs_background": "light"
          }
        }
      ]
    },
    {
      "cell_type": "code",
      "source": [
        "# impulse\n",
        "y,t = control.impulse(complete9)\n",
        "plt.plot(t,y)\n",
        "plt.xlabel('Time')\n",
        "plt.title('Step impulse')"
      ],
      "metadata": {
        "colab": {
          "base_uri": "https://localhost:8080/",
          "height": 312
        },
        "outputId": "ef6c1f1f-6025-41d7-c921-069cc043e54f",
        "id": "mMFjpN3Xehr8"
      },
      "execution_count": 101,
      "outputs": [
        {
          "output_type": "execute_result",
          "data": {
            "text/plain": [
              "Text(0.5, 1.0, 'Step impulse')"
            ]
          },
          "metadata": {},
          "execution_count": 101
        },
        {
          "output_type": "display_data",
          "data": {
            "text/plain": [
              "<Figure size 432x288 with 1 Axes>"
            ],
            "image/png": "[encoded data removed]"
          },
          "metadata": {
            "needs_background": "light"
          }
        }
      ]
    },
    {
      "cell_type": "code",
      "source": [
        "#  pole\n",
        "try:\n",
        "  y,t = control.pole(complete9)\n",
        "  plt.plot(t,y)\n",
        "  plt.xlabel('Time')\n",
        "  plt.title('Step impulse')\n",
        "except ValueError:\n",
        "  print(\"Bilangan imajiner\")\n",
        "\n"
      ],
      "metadata": {
        "colab": {
          "base_uri": "https://localhost:8080/"
        },
        "outputId": "ba3c1569-85ba-496a-bd61-f5f6f88d44d7",
        "id": "-MKG-5Q5ehr9"
      },
      "execution_count": 102,
      "outputs": [
        {
          "output_type": "stream",
          "name": "stdout",
          "text": [
            "Bilangan imajiner\n"
          ]
        }
      ]
    },
    {
      "cell_type": "code",
      "source": [
        "# Gain\n",
        "kp = 1\n",
        "ti = 1\n",
        "\n",
        "H = control.tf(complete9)\n",
        "print(H)\n",
        "\n",
        "plt.plot(t,y)\n",
        "plt.xlabel('Time')\n",
        "plt.title('Gain')"
      ],
      "metadata": {
        "colab": {
          "base_uri": "https://localhost:8080/",
          "height": 399
        },
        "outputId": "334d6404-8ae2-4164-b29a-486426530d2f",
        "id": "sZTfKIuWehr9"
      },
      "execution_count": 103,
      "outputs": [
        {
          "output_type": "stream",
          "name": "stdout",
          "text": [
            "\n",
            "       0.09 s^2 + 0.01 s\n",
            "-------------------------------\n",
            "0.005 s^3 + 0.15 s^2 + 0.0101 s\n",
            "\n"
          ]
        },
        {
          "output_type": "execute_result",
          "data": {
            "text/plain": [
              "Text(0.5, 1.0, 'Gain')"
            ]
          },
          "metadata": {},
          "execution_count": 103
        },
        {
          "output_type": "display_data",
          "data": {
            "text/plain": [
              "<Figure size 432x288 with 1 Axes>"
            ],
            "image/png": "[encoded data removed]"
          },
          "metadata": {
            "needs_background": "light"
          }
        }
      ]
    },
    {
      "cell_type": "code",
      "source": [],
      "metadata": {
        "id": "k8tyGf9DdjoL"
      },
      "execution_count": 103,
      "outputs": []
    },
    {
      "cell_type": "code",
      "source": [],
      "metadata": {
        "id": "wG8q_IADdkHz"
      },
      "execution_count": 103,
      "outputs": []
    },
    {
      "cell_type": "code",
      "source": [],
      "metadata": {
        "id": "af0SEcBqdkFp"
      },
      "execution_count": 103,
      "outputs": []
    },
    {
      "cell_type": "code",
      "source": [],
      "metadata": {
        "id": "0fv8OyL5dkDZ"
      },
      "execution_count": 103,
      "outputs": []
    },
    {
      "cell_type": "code",
      "source": [],
      "metadata": {
        "id": "NlHX8GK5dkBD"
      },
      "execution_count": 103,
      "outputs": []
    },
    {
      "cell_type": "code",
      "source": [],
      "metadata": {
        "id": "sof4tYcTdj8a"
      },
      "execution_count": 103,
      "outputs": []
    },
    {
      "cell_type": "code",
      "source": [],
      "metadata": {
        "id": "LxbRWTOHdj5c"
      },
      "execution_count": 103,
      "outputs": []
    },
    {
      "cell_type": "code",
      "source": [],
      "metadata": {
        "id": "xY1bhLrhz5tu"
      },
      "execution_count": 103,
      "outputs": []
    }
  ]
}